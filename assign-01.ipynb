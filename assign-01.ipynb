{
 "cells": [
  {
   "cell_type": "markdown",
   "metadata": {},
   "source": [
    "# ISYS2047 –Information Systems Solutions and Design\n",
    "# Semester 1 2020\n",
    "# Assignment 1\n",
    "\n",
    "## Due date: Week 5\n"
   ]
  },
  {
   "cell_type": "markdown",
   "metadata": {},
   "source": [
    "## Submission\n",
    "\n",
    "**You should submit your assignment (.ipynb file) to Canvas before the start of your week 5 tutorial.  You will then need to demonstrate your assignment in class to your tutor before the end of your week 5 tutorial.**"
   ]
  },
  {
   "cell_type": "markdown",
   "metadata": {},
   "source": [
    "## Enter your name and student number in the cell below"
   ]
  },
  {
   "cell_type": "markdown",
   "metadata": {},
   "source": [
    "Name: [Qiurui Xu]\n",
    "\n",
    "Student number: [s3548500]"
   ]
  },
  {
   "cell_type": "markdown",
   "metadata": {},
   "source": [
    "# Question 1 (10 marks)"
   ]
  },
  {
   "cell_type": "markdown",
   "metadata": {},
   "source": [
    "Given the supplier defined as *supplier_102* in the cell below, write python code to perform the following:\n",
    "\n",
    "1. Print all the keys from the dictionary\n",
    "\n",
    "2. Print all the values from the dictionary\n",
    "\n",
    "3. Check if item 'mobile' exists and print an appropriate message (whether it exists or not)\n",
    "\n",
    "4. Delete all items from the dictionary and print\n",
    "\n",
    "Notes:\n",
    "- Everytime you perform an operation, *print* the variable(s) to get some evidence that it worked'\n",
    "- And print a blank line (e.g. *print()*) to get a blank line beween the values printed.\n",
    "- Hardcoding the answer (i.e. manually computing the answers) will result in no mark for this question. If you are not sure what hard-coding is, please consult with your tutor.\n",
    "\n",
    "Hints: \n",
    "- *Week 2 Lecture notes* and *Lab Task 2.1 - Data Type: Collections*"
   ]
  },
  {
   "cell_type": "code",
   "execution_count": 9,
   "metadata": {},
   "outputs": [
    {
     "name": "stdout",
     "output_type": "stream",
     "text": [
      "city\n",
      "contact_firstname\n",
      "contact_lastname\n",
      "contact_title\n",
      "country\n",
      "email\n",
      "notes\n",
      "phone\n",
      "postcode\n",
      "state\n",
      "street_address\n",
      "supplier_id\n",
      "supplier_name\n",
      "\n",
      "Lake Peterfurt\n",
      "Lucas\n",
      "Reyes\n",
      "Mr\n",
      "Australia\n",
      "lucas7404.reyes@gmail.com\n",
      "\n",
      "(02) 2310 6339\n",
      "2634\n",
      "Reyes\n",
      "09 /\n",
      " 0 Tara Laneway\n",
      "102\n",
      "Mata, Townsend and Black\n",
      "\n",
      "'mobile' is absent\n",
      "\n",
      "{}\n"
     ]
    }
   ],
   "source": [
    "supplier_102 =  {\n",
    "    \"city\": \"Lake Peterfurt\",\n",
    "    \"contact_firstname\": \"Lucas\",\n",
    "    \"contact_lastname\": \"Reyes\",\n",
    "    \"contact_title\": \"Mr\",\n",
    "    \"country\": \"Australia\",\n",
    "    \"email\": \"lucas7404.reyes@gmail.com\",\n",
    "    \"notes\": \"\",\n",
    "    \"phone\": \"(02) 2310 6339\",\n",
    "    \"postcode\": \"2634\",\n",
    "    \"state\": \"Reyes\",\n",
    "    \"street_address\": \"09 /\\n 0 Tara Laneway\",\n",
    "    \"supplier_id\": 102,\n",
    "    \"supplier_name\": \"Mata, Townsend and Black\"\n",
    "}\n",
    "\n",
    "# Write your code below this line\n",
    "\n",
    "# 1. Print all the keys from the dictionary\n",
    "for x in supplier_102:\n",
    " print(x)\n",
    "print()\n",
    "\n",
    "# 2. Print all the values from the dictionary\n",
    "for x in supplier_102:\n",
    " print(supplier_102[x])\n",
    "print()\n",
    "\n",
    "# 3. Check if item 'mobile' exists and print an appropriate message (whether it exists or not)\n",
    "if \"mobile\" in supplier_102:\n",
    "    print(\"'mobile'is present\")\n",
    "else:\n",
    "    print(\"'mobile' is absent\")\n",
    "    \n",
    "print()\n",
    "\n",
    "# 4. Delete all items from the dictionary and print\n",
    "supplier_102.clear()\n",
    "print(supplier_102)\n"
   ]
  },
  {
   "cell_type": "markdown",
   "metadata": {},
   "source": [
    "# Question 2 (10 marks)"
   ]
  },
  {
   "cell_type": "markdown",
   "metadata": {},
   "source": [
    "Given a list of products, defined as *products* in the cell below, write python code to perform the following:\n",
    "\n",
    "1. Find the length of list\n",
    "\n",
    "2. Change \"supplier_name\" of supplier with \"supplier_id\"=102 from \"Mata, Townsend and Black\" to \"Mata, Townsend and Black & Co.\" \n",
    "\n",
    "3. Add a new supplier to the list with the following details:\n",
    "   - city: Bankstown\n",
    "   - contact_firstname: Robert\n",
    "   - contact_lastname: Johnson\n",
    "   - contact_title: Mr\n",
    "   - country: Australia\n",
    "   - email: robert8343.johnson@gmail.com\n",
    "   - notes: \"\"\n",
    "   - phone: 0477 023 763\n",
    "   - postcode: 2627\n",
    "   - state: Johnson\n",
    "   - street_address: 33 Cain Tarn\n",
    "   - supplier_id: 104\n",
    "   - supplier_name: Drake-Henry\n",
    "   \n",
    "4. Remove supplier with \"supplier_id\" = 103 from the list\n",
    "\n",
    "Notes:\n",
    "- Hardcoding the answer (i.e. manually computing the answers) will result in no mark for this question. If you are not sure what hard-coding is, please consult with your tutor.\n",
    "- Hardcoding will no longer be mentioned as it is implied for all the work that you do in this course!\n",
    "\n",
    "Hints: \n",
    "- *Week 2 Lecture notes* (lists, dictionaries), *Week 3 Lecture notes* (loops and conditional statements) and *Lab Task 3.1 - Programming Constructs* (loops and conditional statements)."
   ]
  },
  {
   "cell_type": "code",
   "execution_count": 33,
   "metadata": {},
   "outputs": [
    {
     "name": "stdout",
     "output_type": "stream",
     "text": [
      "3\n",
      "\n",
      "[{'city': 'St. Kellyton', 'contact_firstname': 'Michelle', 'contact_lastname': 'Mitchell', 'contact_title': 'Mrs', 'country': 'Australia', 'email': 'michelle3113.mitchell@gmail.com', 'notes': '', 'phone': '(03) 9269 4800', 'postcode': '2693', 'state': 'Mitchell', 'street_address': '2 Alexander Grove', 'supplier_id': 101, 'supplier_name': 'Ferguson Inc'}, {'city': 'Lake Peterfurt', 'contact_firstname': 'Lucas', 'contact_lastname': 'Reyes', 'contact_title': 'Mr', 'country': 'Australia', 'email': 'lucas7404.reyes@gmail.com', 'notes': '', 'phone': '(02) 2310 6339', 'postcode': '2634', 'state': 'Reyes', 'street_address': '09 /\\n 0 Tara Laneway', 'supplier_id': 102, 'supplier_name': 'Mata, Townsend and Black & Co.'}, {'city': 'Parkerborough', 'contact_firstname': 'Marcia', 'contact_lastname': 'Stanley', 'contact_title': 'Mrs', 'country': 'Australia', 'email': 'marcia2459.stanley@gmail.com', 'notes': '', 'phone': '(07) 2644 5735', 'postcode': '2619', 'state': 'Stanley', 'street_address': 'Suite 071\\n 3 Cody Upper', 'supplier_id': 103, 'supplier_name': 'White, Vargas and Ballard'}]\n",
      "\n",
      "[{'city': 'St. Kellyton', 'contact_firstname': 'Michelle', 'contact_lastname': 'Mitchell', 'contact_title': 'Mrs', 'country': 'Australia', 'email': 'michelle3113.mitchell@gmail.com', 'notes': '', 'phone': '(03) 9269 4800', 'postcode': '2693', 'state': 'Mitchell', 'street_address': '2 Alexander Grove', 'supplier_id': 101, 'supplier_name': 'Ferguson Inc'}, {'city': 'Lake Peterfurt', 'contact_firstname': 'Lucas', 'contact_lastname': 'Reyes', 'contact_title': 'Mr', 'country': 'Australia', 'email': 'lucas7404.reyes@gmail.com', 'notes': '', 'phone': '(02) 2310 6339', 'postcode': '2634', 'state': 'Reyes', 'street_address': '09 /\\n 0 Tara Laneway', 'supplier_id': 102, 'supplier_name': 'Mata, Townsend and Black & Co.'}, {'city': 'Parkerborough', 'contact_firstname': 'Marcia', 'contact_lastname': 'Stanley', 'contact_title': 'Mrs', 'country': 'Australia', 'email': 'marcia2459.stanley@gmail.com', 'notes': '', 'phone': '(07) 2644 5735', 'postcode': '2619', 'state': 'Stanley', 'street_address': 'Suite 071\\n 3 Cody Upper', 'supplier_id': 103, 'supplier_name': 'White, Vargas and Ballard'}, {'city': 'Bankstown', 'contact_firstname': 'Robert', 'contact_lastname': 'Johnson', 'contact_title': 'Mr', 'country': 'Australia', 'email': 'robert8343.johnson@gmail.com', 'notes': '', 'phone': '0477 023 763', 'postcode': '2627', 'state': 'Johnson', 'street_address': '33 Cain Tarn', 'supplier_id': 104, 'supplier_name': 'Drake-Henry'}]\n",
      "\n",
      "[{'city': 'St. Kellyton', 'contact_firstname': 'Michelle', 'contact_lastname': 'Mitchell', 'contact_title': 'Mrs', 'country': 'Australia', 'email': 'michelle3113.mitchell@gmail.com', 'notes': '', 'phone': '(03) 9269 4800', 'postcode': '2693', 'state': 'Mitchell', 'street_address': '2 Alexander Grove', 'supplier_id': 101, 'supplier_name': 'Ferguson Inc'}, {'city': 'Lake Peterfurt', 'contact_firstname': 'Lucas', 'contact_lastname': 'Reyes', 'contact_title': 'Mr', 'country': 'Australia', 'email': 'lucas7404.reyes@gmail.com', 'notes': '', 'phone': '(02) 2310 6339', 'postcode': '2634', 'state': 'Reyes', 'street_address': '09 /\\n 0 Tara Laneway', 'supplier_id': 102, 'supplier_name': 'Mata, Townsend and Black & Co.'}, {'city': 'Bankstown', 'contact_firstname': 'Robert', 'contact_lastname': 'Johnson', 'contact_title': 'Mr', 'country': 'Australia', 'email': 'robert8343.johnson@gmail.com', 'notes': '', 'phone': '0477 023 763', 'postcode': '2627', 'state': 'Johnson', 'street_address': '33 Cain Tarn', 'supplier_id': 104, 'supplier_name': 'Drake-Henry'}]\n",
      "\n"
     ]
    }
   ],
   "source": [
    "suppliers = [\n",
    "    {\n",
    "        \"city\": \"St. Kellyton\",\n",
    "        \"contact_firstname\": \"Michelle\",\n",
    "        \"contact_lastname\": \"Mitchell\",\n",
    "        \"contact_title\": \"Mrs\",\n",
    "        \"country\": \"Australia\",\n",
    "        \"email\": \"michelle3113.mitchell@gmail.com\",\n",
    "        \"notes\": \"\",\n",
    "        \"phone\": \"(03) 9269 4800\",\n",
    "        \"postcode\": \"2693\",\n",
    "        \"state\": \"Mitchell\",\n",
    "        \"street_address\": \"2 Alexander Grove\",\n",
    "        \"supplier_id\": 101,\n",
    "        \"supplier_name\": \"Ferguson Inc\"\n",
    "    },\n",
    "    {\n",
    "        \"city\": \"Lake Peterfurt\",\n",
    "        \"contact_firstname\": \"Lucas\",\n",
    "        \"contact_lastname\": \"Reyes\",\n",
    "        \"contact_title\": \"Mr\",\n",
    "        \"country\": \"Australia\",\n",
    "        \"email\": \"lucas7404.reyes@gmail.com\",\n",
    "        \"notes\": \"\",\n",
    "        \"phone\": \"(02) 2310 6339\",\n",
    "        \"postcode\": \"2634\",\n",
    "        \"state\": \"Reyes\",\n",
    "        \"street_address\": \"09 /\\n 0 Tara Laneway\",\n",
    "        \"supplier_id\": 102,\n",
    "        \"supplier_name\": \"Mata, Townsend and Black\"\n",
    "    },\n",
    "    {\n",
    "        \"city\": \"Parkerborough\",\n",
    "        \"contact_firstname\": \"Marcia\",\n",
    "        \"contact_lastname\": \"Stanley\",\n",
    "        \"contact_title\": \"Mrs\",\n",
    "        \"country\": \"Australia\",\n",
    "        \"email\": \"marcia2459.stanley@gmail.com\",\n",
    "        \"notes\": \"\",\n",
    "        \"phone\": \"(07) 2644 5735\",\n",
    "        \"postcode\": \"2619\",\n",
    "        \"state\": \"Stanley\",\n",
    "        \"street_address\": \"Suite 071\\n 3 Cody Upper\",\n",
    "        \"supplier_id\": 103,\n",
    "        \"supplier_name\": \"White, Vargas and Ballard\"\n",
    "    }\n",
    "]\n",
    "    \n",
    "# Write your code below this line\n",
    "\n",
    "# 1. Find the length of list\n",
    "#   (and print something to provide evidence that it worked)\n",
    "print(len(suppliers))\n",
    "print()\n",
    "\n",
    "# 2. Change \"supplier_name\" of supplier with \"supplier_id\"=102 from \"Mata, Townsend and Black\" to \"Mata, Townsend and Black & Co.\" \n",
    "#   (and print something to provide evidence that it worked)\n",
    "suppliers[1][\"supplier_name\"] = \"Mata, Townsend and Black & Co.\"\n",
    "print(suppliers)\n",
    "print()\n",
    "\n",
    "# 3. Add a new supplier to the list\n",
    "#   (and print something to provide evidence that it worked)\n",
    "suppliers.append({\"city\": \"Bankstown\",\n",
    "   \"contact_firstname\": \"Robert\",\n",
    "   \"contact_lastname\": \"Johnson\",\n",
    "   \"contact_title\": \"Mr\",\n",
    "   \"country\": \"Australia\",\n",
    "   \"email\": \"robert8343.johnson@gmail.com\",\n",
    "   \"notes\": \"\",\n",
    "   \"phone\": \"0477 023 763\",\n",
    "   \"postcode\": \"2627\",\n",
    "   \"state\": \"Johnson\",\n",
    "   \"street_address\": \"33 Cain Tarn\",\n",
    "   \"supplier_id\": 104,\n",
    "   \"supplier_name\": \"Drake-Henry\"})\n",
    "print(suppliers)\n",
    "print()\n",
    "\n",
    "\n",
    "# 4. Remove supplier  with \"supplier_id\" =103\n",
    "#   (and print something to provide evidence that it worked)\n",
    "del suppliers[2]\n",
    "print(suppliers)\n",
    "print()\n",
    "\n"
   ]
  },
  {
   "cell_type": "markdown",
   "metadata": {},
   "source": [
    "# Question 3 (10 marks)"
   ]
  },
  {
   "cell_type": "markdown",
   "metadata": {},
   "source": [
    "Given a list of numbers, defined as *lst_num* in the cell below, write python code to perform the following:\n",
    "\n",
    "1. Find the highest number in the list.\n",
    "\n",
    "2. Write the code as a function and call the function with the list of numbers as parameter. \n",
    "\n",
    "3. Print the result so that we can see the outcome.\n",
    "\n",
    "Skeleton code has been provided in the cell below to facilitate your task.\n",
    "\n",
    "Hints: \n",
    "- *Week 3 Lecture notes* (loops and conditional statements) and *Lab Task 3.2 - User Defined Functions* (loops and conditional statements)."
   ]
  },
  {
   "cell_type": "code",
   "execution_count": 68,
   "metadata": {},
   "outputs": [
    {
     "name": "stdout",
     "output_type": "stream",
     "text": [
      "30\n",
      "\n"
     ]
    }
   ],
   "source": [
    "# List of numbers\n",
    "lst_num = [1, 25, 2, 30, 8]\n",
    "\n",
    "\n",
    "# 1. Define the function\n",
    "def max_items(items):    \n",
    "    max = 0\n",
    "    \n",
    "    # Write your code below this line\n",
    "    max_val = max(items)\n",
    "    return max_val\n",
    "\n",
    "\n",
    "\n",
    "# 2. Call the function\n",
    "# Write your code below this line\n",
    "max_item = max (lst_num)\n",
    "print(max_item)\n",
    "print()\n"
   ]
  },
  {
   "cell_type": "markdown",
   "metadata": {},
   "source": [
    "# Question 4 (10 marks)"
   ]
  },
  {
   "cell_type": "markdown",
   "metadata": {},
   "source": [
    "Given the list of *suppliers* defined in the cell below, write python code to:\n",
    "\n",
    "1. Process the list of dictionaries to create a list of *supplier_name*.\n",
    "\n",
    "2. Join the *supplier_name* with a semi-colon followed by space to form a single string e.g. *Ferguson Inc; Mata, Townsend and Black; White, Vargas and Ballard* and print the string.\n",
    "\n",
    "Hints:\n",
    "- *Week 2 Lecture notes* (lists, dictionaries), *Week 3 Lecture notes* (loops and conditional statements), *Lab Task 3.1 - Programming Constructs* (loops and conditional statements) and *Lab Task 3.4 - Advanced Techniques for Collections* (joining items in a list as a single string)"
   ]
  },
  {
   "cell_type": "code",
   "execution_count": 67,
   "metadata": {},
   "outputs": [
    {
     "name": "stdout",
     "output_type": "stream",
     "text": [
      "Ferguson Inc; Mata, Townsend and Black; White, Vargas and Ballard\n",
      "\n"
     ]
    }
   ],
   "source": [
    "suppliers = [\n",
    "    {\n",
    "        \"city\": \"St. Kellyton\",\n",
    "        \"contact_firstname\": \"Michelle\",\n",
    "        \"contact_lastname\": \"Mitchell\",\n",
    "        \"contact_title\": \"Mrs\",\n",
    "        \"country\": \"Australia\",\n",
    "        \"email\": \"michelle3113.mitchell@gmail.com\",\n",
    "        \"notes\": \"\",\n",
    "        \"phone\": \"(03) 9269 4800\",\n",
    "        \"postcode\": \"2693\",\n",
    "        \"state\": \"Mitchell\",\n",
    "        \"street_address\": \"2 Alexander Grove\",\n",
    "        \"supplier_id\": 101,\n",
    "        \"supplier_name\": \"Ferguson Inc\"\n",
    "    },\n",
    "    {\n",
    "        \"city\": \"Lake Peterfurt\",\n",
    "        \"contact_firstname\": \"Lucas\",\n",
    "        \"contact_lastname\": \"Reyes\",\n",
    "        \"contact_title\": \"Mr\",\n",
    "        \"country\": \"Australia\",\n",
    "        \"email\": \"lucas7404.reyes@gmail.com\",\n",
    "        \"notes\": \"\",\n",
    "        \"phone\": \"(02) 2310 6339\",\n",
    "        \"postcode\": \"2634\",\n",
    "        \"state\": \"Reyes\",\n",
    "        \"street_address\": \"09 /\\n 0 Tara Laneway\",\n",
    "        \"supplier_id\": 102,\n",
    "        \"supplier_name\": \"Mata, Townsend and Black\"\n",
    "    },\n",
    "    {\n",
    "        \"city\": \"Parkerborough\",\n",
    "        \"contact_firstname\": \"Marcia\",\n",
    "        \"contact_lastname\": \"Stanley\",\n",
    "        \"contact_title\": \"Mrs\",\n",
    "        \"country\": \"Australia\",\n",
    "        \"email\": \"marcia2459.stanley@gmail.com\",\n",
    "        \"notes\": \"\",\n",
    "        \"phone\": \"(07) 2644 5735\",\n",
    "        \"postcode\": \"2619\",\n",
    "        \"state\": \"Stanley\",\n",
    "        \"street_address\": \"Suite 071\\n 3 Cody Upper\",\n",
    "        \"supplier_id\": 103,\n",
    "        \"supplier_name\": \"White, Vargas and Ballard\"\n",
    "    }\n",
    "]\n",
    "    \n",
    "    \n",
    "# Write your code below this line\n",
    "\n",
    "supplier_name = \"Ferguson Inc\", \"Mata, Townsend and Black\", \"White, Vargas and Ballard\"\n",
    "str1 =\"; \".join(supplier_name)\n",
    "print(str1)\n",
    "print()\n",
    "\n",
    "\n",
    "\n"
   ]
  },
  {
   "cell_type": "markdown",
   "metadata": {},
   "source": [
    "# Question 5 (10 marks)"
   ]
  },
  {
   "cell_type": "markdown",
   "metadata": {},
   "source": [
    "In the cell below, write python code to do:\n",
    "\n",
    "1. Create a dictionary named *prod_104* with the following key/value pairs:\n",
    "   - discontinued: 0\n",
    "   - lead_time_days: 4\n",
    "   - product_category: Personal Computers\n",
    "   - product_description: 8 inch Display (1920x1200) ...\n",
    "   - product_id: 104\n",
    "   - product_name: NVIDIA SHIELD Tablet (WiFi)\n",
    "   - reorder_level: 10\n",
    "   - unit_price: 299.0\n",
    "\n",
    "2. Print the dictionary\n",
    "\n",
    "Hints:\n",
    "- *Week 2 Lecture notes* and *Lab Task 2.1 - Data Type: Collections*"
   ]
  },
  {
   "cell_type": "code",
   "execution_count": 71,
   "metadata": {},
   "outputs": [
    {
     "name": "stdout",
     "output_type": "stream",
     "text": [
      "{'discontinued': 0, 'lead_time_days': 4, 'product_category': 'Personal Computers', 'product_description': '8 inch Display (1920x1200) ...', 'product_id': 104, 'product_name': 'NVIDIA SHIELD Tablet (WiFi)', 'reorder_level': 10, 'unit_price': 299.0}\n",
      "\n"
     ]
    }
   ],
   "source": [
    "# Write your code below this line\n",
    "\n",
    "prod_104 ={\n",
    "   \"discontinued\": 0,\n",
    "   \"lead_time_days\": 4,\n",
    "   \"product_category\": \"Personal Computers\",\n",
    "   \"product_description\": \"8 inch Display (1920x1200) ...\",\n",
    "   \"product_id\": 104,\n",
    "   \"product_name\": \"NVIDIA SHIELD Tablet (WiFi)\",\n",
    "   \"reorder_level\": 10,\n",
    "   \"unit_price\": 299.0\n",
    "    }\n",
    "print(prod_104)\n",
    "print()\n",
    "\n",
    "\n",
    "\n"
   ]
  },
  {
   "cell_type": "markdown",
   "metadata": {},
   "source": [
    "# Question 6 (10 marks)"
   ]
  },
  {
   "cell_type": "markdown",
   "metadata": {},
   "source": [
    "Given the list of *suppliers* defined in the cell below, write python code to:\n",
    "\n",
    "1. Process the list of dictionaries to create a new list of dictionaries.\n",
    "\n",
    "2. Only include suppliers that are from Lake Peterfurt or Parkerborough in the new list.\n",
    "\n",
    "3. Print the length of the new list\n",
    "\n",
    "4. Print the contents of the new list\n",
    "\n",
    "Notes:\n",
    "- This problem must be solved in ONE LINE using *filter()* with a SINGLE *lambda* funtion\n",
    "\n",
    "Hints:\n",
    "- *Lab Task 3.4 - Advanced Techniques for Collections*\n",
    "- You can solve this problem using the \"or\" operator\n",
    "  - i.e. x['city'] == \"Parkerborough\" or x['city'] == \"Lake Peterfurt\"\n",
    "- Or you can use the \"in\" operator\n",
    "  - or x['city'] in [\"Parkerborough\", \"Lake Peterfurt\"]"
   ]
  },
  {
   "cell_type": "code",
   "execution_count": 155,
   "metadata": {},
   "outputs": [
    {
     "name": "stdout",
     "output_type": "stream",
     "text": [
      "[{'city': 'Lake Peterfurt', 'contact_firstname': 'Lucas', 'contact_lastname': 'Reyes', 'contact_title': 'Mr', 'country': 'Australia', 'email': 'lucas7404.reyes@gmail.com', 'notes': 'xyz', 'phone': '(02) 2310 6339', 'postcode': '2634', 'state': 'Reyes', 'street_address': '09 /\\n 0 Tara Laneway', 'supplier_id': 102, 'supplier_name': 'Mata, Townsend and Black'}, {'city': 'Parkerborough', 'contact_firstname': 'Marcia', 'contact_lastname': 'Stanley', 'contact_title': 'Mrs', 'country': 'Australia', 'email': 'marcia2459.stanley@gmail.com', 'notes': '', 'phone': '(07) 2644 5735', 'postcode': '2619', 'state': 'Stanley', 'street_address': 'Suite 071\\n 3 Cody Upper', 'supplier_id': 103, 'supplier_name': 'White, Vargas and Ballard'}]\n",
      "\n",
      "2\n",
      "\n"
     ]
    }
   ],
   "source": [
    "suppliers = [\n",
    "    {\n",
    "        \"city\": \"St. Kellyton\",\n",
    "        \"contact_firstname\": \"Michelle\",\n",
    "        \"contact_lastname\": \"Mitchell\",\n",
    "        \"contact_title\": \"Mrs\",\n",
    "        \"country\": \"Australia\",\n",
    "        \"email\": \"michelle3113.mitchell@gmail.com\",\n",
    "        \"notes\": \"\",\n",
    "        \"phone\": \"(03) 9269 4800\",\n",
    "        \"postcode\": \"2693\",\n",
    "        \"state\": \"Mitchell\",\n",
    "        \"street_address\": \"2 Alexander Grove\",\n",
    "        \"supplier_id\": 101,\n",
    "        \"supplier_name\": \"Ferguson Inc\"\n",
    "    },\n",
    "    {\n",
    "        \"city\": \"Lake Peterfurt\",\n",
    "        \"contact_firstname\": \"Lucas\",\n",
    "        \"contact_lastname\": \"Reyes\",\n",
    "        \"contact_title\": \"Mr\",\n",
    "        \"country\": \"Australia\",\n",
    "        \"email\": \"lucas7404.reyes@gmail.com\",\n",
    "        \"notes\": \"xyz\",\n",
    "        \"phone\": \"(02) 2310 6339\",\n",
    "        \"postcode\": \"2634\",\n",
    "        \"state\": \"Reyes\",\n",
    "        \"street_address\": \"09 /\\n 0 Tara Laneway\",\n",
    "        \"supplier_id\": 102,\n",
    "        \"supplier_name\": \"Mata, Townsend and Black\"\n",
    "    },\n",
    "    {\n",
    "        \"city\": \"Parkerborough\",\n",
    "        \"contact_firstname\": \"Marcia\",\n",
    "        \"contact_lastname\": \"Stanley\",\n",
    "        \"contact_title\": \"Mrs\",\n",
    "        \"country\": \"Australia\",\n",
    "        \"email\": \"marcia2459.stanley@gmail.com\",\n",
    "        \"notes\": \"\",\n",
    "        \"phone\": \"(07) 2644 5735\",\n",
    "        \"postcode\": \"2619\",\n",
    "        \"state\": \"Stanley\",\n",
    "        \"street_address\": \"Suite 071\\n 3 Cody Upper\",\n",
    "        \"supplier_id\": 103,\n",
    "        \"supplier_name\": \"White, Vargas and Ballard\"\n",
    "    }\n",
    "]\n",
    "\n",
    "# Insert all dicts with city=\"Parkerborough\" or city=\"Lake Peterfurt\" to the new list\n",
    "# Write your code below this line\n",
    "\n",
    "new_list = list(filter(lambda x: x['city'] in [\"Parkerborough\", \"Lake Peterfurt\"], suppliers))\n",
    "print(new_list)\n",
    "print()\n",
    "print(len(new_list))\n",
    "print()\n",
    "\n",
    "    \n"
   ]
  },
  {
   "cell_type": "markdown",
   "metadata": {},
   "source": [
    "# Question 7 (10 marks)"
   ]
  },
  {
   "cell_type": "markdown",
   "metadata": {},
   "source": [
    "Given the list of *suppliers* defined in the cell below, write python code to:\n",
    "\n",
    "1. Process the list of dictionaries to create a list of supplier names formatted as *supplier_id - supplier_name* \n",
    "   - e.g. *101 - Ferguson Inc*, etc\n",
    "\n",
    "\n",
    "2. Print the newly created list\n",
    "\n",
    "Notes: \n",
    "- This problem must be solved in ONE LINE using *map()* with a SINGLE *lambda* function\n",
    "- The output can be obtained using string concatenation\n",
    "- Since supplier_id is a number, it must be cast to a string in order to be able to concatenate it with other strings\n",
    "\n",
    "Hints:\n",
    "- *Lab Task 3.4 - Advanced Techniques for Collections*"
   ]
  },
  {
   "cell_type": "code",
   "execution_count": 217,
   "metadata": {},
   "outputs": [
    {
     "name": "stdout",
     "output_type": "stream",
     "text": [
      "['101-Ferguson Inc', '102-Mata, Townsend and Black', '103-White, Vargas and Ballard']\n",
      "\n"
     ]
    }
   ],
   "source": [
    "suppliers = [\n",
    "    {\n",
    "        \"city\": \"St. Kellyton\",\n",
    "        \"contact_firstname\": \"Michelle\",\n",
    "        \"contact_lastname\": \"Mitchell\",\n",
    "        \"contact_title\": \"Mrs\",\n",
    "        \"country\": \"Australia\",\n",
    "        \"email\": \"michelle3113.mitchell@gmail.com\",\n",
    "        \"notes\": \"\",\n",
    "        \"phone\": \"(03) 9269 4800\",\n",
    "        \"postcode\": \"2693\",\n",
    "        \"state\": \"Mitchell\",\n",
    "        \"street_address\": \"2 Alexander Grove\",\n",
    "        \"supplier_id\": 101,\n",
    "        \"supplier_name\": \"Ferguson Inc\"\n",
    "    },\n",
    "    {\n",
    "        \"city\": \"Lake Peterfurt\",\n",
    "        \"contact_firstname\": \"Lucas\",\n",
    "        \"contact_lastname\": \"Reyes\",\n",
    "        \"contact_title\": \"Mr\",\n",
    "        \"country\": \"Australia\",\n",
    "        \"email\": \"lucas7404.reyes@gmail.com\",\n",
    "        \"notes\": \"xyz\",\n",
    "        \"phone\": \"(02) 2310 6339\",\n",
    "        \"postcode\": \"2634\",\n",
    "        \"state\": \"Reyes\",\n",
    "        \"street_address\": \"09 /\\n 0 Tara Laneway\",\n",
    "        \"supplier_id\": 102,\n",
    "        \"supplier_name\": \"Mata, Townsend and Black\"\n",
    "    },\n",
    "    {\n",
    "        \"city\": \"Parkerborough\",\n",
    "        \"contact_firstname\": \"Marcia\",\n",
    "        \"contact_lastname\": \"Stanley\",\n",
    "        \"contact_title\": \"Mrs\",\n",
    "        \"country\": \"Australia\",\n",
    "        \"email\": \"marcia2459.stanley@gmail.com\",\n",
    "        \"notes\": \"\",\n",
    "        \"phone\": \"(07) 2644 5735\",\n",
    "        \"postcode\": \"2619\",\n",
    "        \"state\": \"Stanley\",\n",
    "        \"street_address\": \"Suite 071\\n 3 Cody Upper\",\n",
    "        \"supplier_id\": 103,\n",
    "        \"supplier_name\": \"White, Vargas and Ballard\"\n",
    "    }\n",
    "]\n",
    "\n",
    "# Write your code below this line\n",
    "\n",
    "new_list = list (map(lambda x,:str (x[\"supplier_id\"]) +\"-\" + x[\"supplier_name\"],suppliers))\n",
    "print(new_list)\n",
    "print()"
   ]
  },
  {
   "cell_type": "markdown",
   "metadata": {},
   "source": [
    "# Question 8 (10 marks)"
   ]
  },
  {
   "cell_type": "markdown",
   "metadata": {},
   "source": [
    "Write Python code in the cell below to do the following:\n",
    "- Convert the date string \"21/02/2020\" to a python date object and print the date object.\n",
    "- Create a date object using the values (2020, 3, 20) and print the date object formatted as \"dd/mm/yyyy\" i.e. 20/03/2020\n",
    "\n",
    "Hint: \n",
    "- *Lab Task 2.3 - Data Type: Date and Datetime*"
   ]
  },
  {
   "cell_type": "code",
   "execution_count": 231,
   "metadata": {},
   "outputs": [
    {
     "name": "stdout",
     "output_type": "stream",
     "text": [
      "2020-02-21\n",
      "\n",
      "20/03/2020\n",
      "\n"
     ]
    }
   ],
   "source": [
    "# 1. Import python packages\n",
    "# Write your code below this line\n",
    "import datetime\n",
    "\n",
    "\n",
    "# 2. Convert a date string in the format \"dd/mm/yyyy\" to a date object and print it\n",
    "# Write your code below this line\n",
    "date = datetime.date(2020,2,21)\n",
    "print(date)\n",
    "print()\n",
    "\n",
    "\n",
    "# 3. Given a date object, format it as \"dd/mm/yyyy\"\n",
    "# Write your code below this line\n",
    "from dateutil.parser import parse\n",
    "\n",
    "d = parse (\"20/3/2020\")\n",
    "oz_date_format = d.strftime('%d/%m/%Y')\n",
    "print(oz_date_format)\n",
    "print()\n",
    "\n",
    "\n"
   ]
  },
  {
   "cell_type": "markdown",
   "metadata": {},
   "source": [
    "# Question 9 (10 marks)"
   ]
  },
  {
   "cell_type": "markdown",
   "metadata": {},
   "source": [
    "We have some Australian land line phone numbers in the format: \"*(area code) 9999 9999*\" e.g. \"*(03) 9269 4800*\"\n",
    "\n",
    "Write a program to print the area code of an Australian land line phone number. \n",
    "\n",
    "Example:\n",
    "If the phone number is: *(03) 9269 4800*, then *03* should be printed:\n",
    "\n",
    "Hint: \n",
    "- *Lab Task 3.5 - Regular Expressions*"
   ]
  },
  {
   "cell_type": "code",
   "execution_count": 236,
   "metadata": {},
   "outputs": [
    {
     "name": "stdout",
     "output_type": "stream",
     "text": [
      "<re.Match object; span=(0, 14), match='(03) 9269 4800'>\n",
      "\n",
      "(03) 9269 4800\n",
      "\n",
      "Valid phone number\n"
     ]
    }
   ],
   "source": [
    "# Regex explanation\n",
    "\n",
    "# ^        # Match the start of the line\n",
    "# .*?      # Non-greedy match anything\n",
    "# \\(       # Up to the first opening bracket - opening bracket must be escaped with \\\n",
    "# [^\\d]*   # Match anything that is not a digit (* means zero or more)\n",
    "# (\\d+)    # Match a digit string (+ means one or more)\n",
    "# [^\\d]*   # Match anything that is not a digit (* means zero or more)\n",
    "# \\)       # Match a closing bracket - closing bracket must be escaped with \\\n",
    "# .*       # Match the rest of the line\n",
    "# $        # Match the end of the line\n",
    "\n",
    "\n",
    "# Write your code below this line\n",
    "import re\n",
    "str = \"(03) 9269 4800\"\n",
    "x = re.search(r'(^\\(\\d{2}\\) \\d{4} \\d{4})',str)\n",
    "print(x)\n",
    "print()\n",
    "\n",
    "print(x.group()) \n",
    "print()\n",
    "\n",
    "if re.search(r'(^\\(\\d{2}\\) \\d{4} \\d{4})', str): \n",
    "    print(\"Valid phone number\")\n",
    "else:\n",
    "    print(\"Invalid phone number\")\n",
    "\n",
    "\n",
    "\n"
   ]
  },
  {
   "cell_type": "markdown",
   "metadata": {},
   "source": [
    "# Question 10 (10 marks)"
   ]
  },
  {
   "cell_type": "markdown",
   "metadata": {},
   "source": [
    "In the cell below, write a class to represent a *Supplier* as per following specifications:\n",
    "\n",
    "- Class name: *Supplier* (note uppercase \"S\")\n",
    "\n",
    "- Define instance attributes as specified by the items in dictionary object *supplier2* i.e. *city*, *contact_firstname*, etc.\n",
    "\n",
    "- Define an *\\__init\\__()* (note: 2 underscores before and after init!) method which initialises the instance attributes to the value of the parameters passed to the method\n",
    "\n",
    "- Define a *set_supplier_name()* method which sets the supplier_name in the instance variable to the value of the parameter passed\n",
    "\n",
    "- Define a *get_supplier_details()* method which returns the supplier details formatted as \"*supplier_id - supplier_name*\"\n",
    "\n",
    "After having defined the class, you need to test the class and its methods to show that it works. You can do this as follows:\n",
    "\n",
    "- Instantiate an object of the class (name it *supp*) and pass *supplier2* to the initialiser (pass the whole *supplier2* object, not individual attributes)\n",
    "\n",
    "- Set the *supplier_name* to something different (e.g. Ferguson & Sons Ltd) by calling *set_supplier_name()* and passing it an appropriate parameter\n",
    "\n",
    "- Call *get_supplier_details()* to get the supplier id and name (and print it)\n",
    "\n",
    "Hint: \n",
    "- *Lab Task 4.1 - Implement a class* and *Week 4 Lecture notes*"
   ]
  },
  {
   "cell_type": "code",
   "execution_count": 248,
   "metadata": {},
   "outputs": [],
   "source": [
    "supplier2 = {\n",
    "        \"city\": \"St. Kellyton\",\n",
    "        \"contact_firstname\": \"Michelle\",\n",
    "        \"contact_lastname\": \"Mitchell\",\n",
    "        \"contact_title\": \"Mrs\",\n",
    "        \"country\": \"Australia\",\n",
    "        \"email\": \"michelle3113.mitchell@gmail.com\",\n",
    "        \"notes\": \"\",\n",
    "        \"phone\": \"(03) 9269 4800\",\n",
    "        \"postcode\": \"2693\",\n",
    "        \"state\": \"Mitchell\",\n",
    "        \"street_address\": \"2 Alexander Grove\",\n",
    "        \"supplier_id\": 101,\n",
    "        \"supplier_name\": \"Ferguson Inc\"\n",
    "}\n",
    "\n",
    "# 1. Define the class here\n",
    "# Write your code below this line\n",
    "class Suppliers:\n",
    "    city = \"St. Kellyton\",\n",
    "    contact_firstname = \"Michelle\",\n",
    "    contact_lastname = \"Mitchell\",\n",
    "    contact_title = \"Mrs\",\n",
    "    country = \"Australia\",\n",
    "    email = \"michelle3113.mitchell@gmail.com\",\n",
    "    notes = \"\",\n",
    "    phone = \"(03) 9269 4800\",\n",
    "    postcode = \"2693\",\n",
    "    state = \"Mitchell\",\n",
    "    street_address = \"2 Alexander Grove\",\n",
    "    supplier_id = 101,\n",
    "    supplier_name = \"Ferguson Inc\"\n",
    "    \n",
    "def __init__(self, city, contact_lastname, contact_title, country, email, notes, phone, postcode, state, street_address,\n",
    "            supplier_id, supplier_name):\n",
    "    \n",
    "    print(\"Initialiser called\")\n",
    "    self.city = city\n",
    "    self.contact_lastname = contact_lastname\n",
    "    self.contact_title = contact_title\n",
    "    self.country = country\n",
    "    self.email = email\n",
    "    self.notes = notes\n",
    "    self.phone = phone\n",
    "    self.postcode = postcode\n",
    "    self.state = state\n",
    "    self.street_address = street_address\n",
    "    self.supplier_id, = supplier_id\n",
    "    self.supplier_name = supplier_name\n",
    "\n",
    "\n",
    "\n",
    "\n",
    "# 2 Instantiate the class and call its methods here\n",
    "# Write your code below this line\n",
    "\n",
    "\n"
   ]
  },
  {
   "cell_type": "markdown",
   "metadata": {},
   "source": [
    "###### © France and Christopher Cheong 2019"
   ]
  },
  {
   "cell_type": "code",
   "execution_count": null,
   "metadata": {},
   "outputs": [],
   "source": []
  }
 ],
 "metadata": {
  "anaconda-cloud": {},
  "kernelspec": {
   "display_name": "Python 3",
   "language": "python",
   "name": "python3"
  },
  "language_info": {
   "codemirror_mode": {
    "name": "ipython",
    "version": 3
   },
   "file_extension": ".py",
   "mimetype": "text/x-python",
   "name": "python",
   "nbconvert_exporter": "python",
   "pygments_lexer": "ipython3",
   "version": "3.7.4"
  }
 },
 "nbformat": 4,
 "nbformat_minor": 4
}
